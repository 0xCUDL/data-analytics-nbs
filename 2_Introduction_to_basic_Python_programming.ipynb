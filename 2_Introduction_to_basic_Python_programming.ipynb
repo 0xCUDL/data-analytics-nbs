{
 "cells": [
  {
   "cell_type": "markdown",
   "metadata": {},
   "source": [
    "This notebook serves as a tutorial of basic Python programming. You will become familiar with Python data structures including both the basic and advanced data types. You will also start using Python if statement and loops. At the end of this tutorial, you should be feeling comfortable writing basic Python codes. You will also obtain most of the Python coding knowlege that you need to know in order to finish the lab exercises.\n",
    "\n",
    "But keep in mind that the best way to get better at Python coding (or any other  programming language) is to practice it every day!\n",
    "\n",
    "Many of the example codes in this manual come with comments, which in Python always start with the hash character #, and extend to the end of the physical line. Comments appear only for the purpose of the clarity of codes, and are not interpreted by Python.\n",
    "\n",
    "Please run the Python codes in the following cells, and have fun!\n",
    "\n",
    "Author: Jiajia Sun @ University of Houston, 01/23/2018"
   ]
  },
  {
   "cell_type": "markdown",
   "metadata": {},
   "source": [
    "# Section 1: Integers"
   ]
  },
  {
   "cell_type": "code",
   "execution_count": 1,
   "metadata": {},
   "outputs": [
    {
     "name": "stdout",
     "output_type": "stream",
     "text": [
      "3\n"
     ]
    }
   ],
   "source": [
    "# The first basic Python data type is integers\n",
    "a = 3\n",
    "print(a)"
   ]
  },
  {
   "cell_type": "code",
   "execution_count": null,
   "metadata": {},
   "outputs": [],
   "source": []
  },
  {
   "cell_type": "code",
   "execution_count": 2,
   "metadata": {},
   "outputs": [
    {
     "name": "stdout",
     "output_type": "stream",
     "text": [
      "b + c = 18\n",
      "b - c = -8\n",
      "b * c = 65\n",
      "b/c = 0.38461538461538464\n"
     ]
    }
   ],
   "source": [
    "# All the algebraic operations such as addition, subtraction, division, etc, apply to integers\n",
    "b = 5\n",
    "c = 13\n",
    "print('b + c =', b + c)\n",
    "print('b - c =', b - c)\n",
    "print('b * c =', b*c)\n",
    "print('b/c =', b/c)\n"
   ]
  },
  {
   "cell_type": "code",
   "execution_count": null,
   "metadata": {},
   "outputs": [],
   "source": []
  },
  {
   "cell_type": "code",
   "execution_count": 3,
   "metadata": {},
   "outputs": [
    {
     "name": "stdout",
     "output_type": "stream",
     "text": [
      "17 % 3 = 2 This is the remainder!\n",
      "17 / 3 = 5.666666666666667 This is division!\n"
     ]
    }
   ],
   "source": [
    "# Note the % operator returns the remainder of the division\n",
    "d = 17\n",
    "e = 3\n",
    "print('17 % 3 =', 17%3, 'This is the remainder!')\n",
    "print('17 / 3 =', 17/3, 'This is division!')"
   ]
  },
  {
   "cell_type": "code",
   "execution_count": null,
   "metadata": {},
   "outputs": [],
   "source": []
  },
  {
   "cell_type": "markdown",
   "metadata": {},
   "source": [
    "# Section 2: Floats"
   ]
  },
  {
   "cell_type": "code",
   "execution_count": 4,
   "metadata": {},
   "outputs": [
    {
     "name": "stdout",
     "output_type": "stream",
     "text": [
      "5.678 is a floating point number.\n"
     ]
    }
   ],
   "source": [
    "# Floats are simply numbers with decimals\n",
    "f = 5.678\n",
    "print(f, 'is a floating point number.')"
   ]
  },
  {
   "cell_type": "code",
   "execution_count": null,
   "metadata": {},
   "outputs": [],
   "source": []
  },
  {
   "cell_type": "code",
   "execution_count": 5,
   "metadata": {},
   "outputs": [
    {
     "name": "stdout",
     "output_type": "stream",
     "text": [
      "f * g = 466.345496\n"
     ]
    }
   ],
   "source": [
    "# Similar to integers, for floats, you can also perform any of the algebraic operations\n",
    "g = 82.132\n",
    "print('f * g =', f*g)"
   ]
  },
  {
   "cell_type": "code",
   "execution_count": null,
   "metadata": {},
   "outputs": [],
   "source": []
  },
  {
   "cell_type": "markdown",
   "metadata": {},
   "source": [
    "# Section 3: Strings"
   ]
  },
  {
   "cell_type": "code",
   "execution_count": 6,
   "metadata": {},
   "outputs": [
    {
     "name": "stdout",
     "output_type": "stream",
     "text": [
      "JohnlivesatHouston\n"
     ]
    }
   ],
   "source": [
    "# A string is a collection of characters. In Python, you create a string by enclosing a sequence of characters within a pair of single or double quotes\n",
    "h = 'John'\n",
    "i = 'lives'\n",
    "j = \"at\"\n",
    "k = \"Houston\"\n",
    "print(h + i + j + k)"
   ]
  },
  {
   "cell_type": "code",
   "execution_count": null,
   "metadata": {},
   "outputs": [],
   "source": []
  },
  {
   "cell_type": "code",
   "execution_count": 7,
   "metadata": {},
   "outputs": [
    {
     "name": "stdout",
     "output_type": "stream",
     "text": [
      "John lives at Houston\n"
     ]
    }
   ],
   "source": [
    "# Note that the output from previous code cell looks odd because of the lack of spaces between adjacent words.\n",
    "# A simple way to fix it is to add one additional space in each string (except for the last one)\n",
    "h = \"John \"\n",
    "i = \"lives \"\n",
    "j = \"at \"\n",
    "k = \"Houston\"\n",
    "print(h + i + j + k)"
   ]
  },
  {
   "cell_type": "code",
   "execution_count": null,
   "metadata": {},
   "outputs": [],
   "source": []
  },
  {
   "cell_type": "markdown",
   "metadata": {},
   "source": [
    "Note that you can concatenate strings by using the + sign. Also, note that this line you are reading now is NOT comments, because it does not start with the hash sign #."
   ]
  },
  {
   "cell_type": "code",
   "execution_count": 8,
   "metadata": {},
   "outputs": [
    {
     "name": "stdout",
     "output_type": "stream",
     "text": [
      "First line. \n",
      "Second line.\n"
     ]
    }
   ],
   "source": [
    "# If you want to start a new line, you need to use \\n.\n",
    "line = 'First line. \\nSecond line.'\n",
    "print(line)"
   ]
  },
  {
   "cell_type": "code",
   "execution_count": null,
   "metadata": {},
   "outputs": [],
   "source": []
  },
  {
   "cell_type": "code",
   "execution_count": 9,
   "metadata": {},
   "outputs": [
    {
     "data": {
      "text/plain": [
       "'P'"
      ]
     },
     "execution_count": 9,
     "metadata": {},
     "output_type": "execute_result"
    }
   ],
   "source": [
    "# Strings can be indexed (subscripted), with the fist character having index of 0. \n",
    "# Note that Python does not have a character data type. A single character can be considered as a string of size one.\n",
    "mychar = 'Python'\n",
    "mychar[0]  # The character with index 0"
   ]
  },
  {
   "cell_type": "code",
   "execution_count": null,
   "metadata": {},
   "outputs": [],
   "source": []
  },
  {
   "cell_type": "code",
   "execution_count": 10,
   "metadata": {},
   "outputs": [
    {
     "data": {
      "text/plain": [
       "'y'"
      ]
     },
     "execution_count": 10,
     "metadata": {},
     "output_type": "execute_result"
    }
   ],
   "source": [
    "mychar[1]  # The character with index 1"
   ]
  },
  {
   "cell_type": "code",
   "execution_count": 11,
   "metadata": {},
   "outputs": [
    {
     "data": {
      "text/plain": [
       "'thon'"
      ]
     },
     "execution_count": 11,
     "metadata": {},
     "output_type": "execute_result"
    }
   ],
   "source": [
    "mychar[2:] # The sequence of characters beginning with the one with index 2 until the last character in the string"
   ]
  },
  {
   "cell_type": "code",
   "execution_count": 12,
   "metadata": {},
   "outputs": [
    {
     "name": "stdout",
     "output_type": "stream",
     "text": [
      "PythonPython\n"
     ]
    }
   ],
   "source": [
    "print(mychar * 2)"
   ]
  },
  {
   "cell_type": "markdown",
   "metadata": {},
   "source": [
    "# Section 4: Boolean"
   ]
  },
  {
   "cell_type": "code",
   "execution_count": 13,
   "metadata": {},
   "outputs": [
    {
     "name": "stdout",
     "output_type": "stream",
     "text": [
      "True\n"
     ]
    }
   ],
   "source": [
    "# A Boolean variable in Python can only take two values: True, False\n",
    "bvar = 'True'\n",
    "print(bvar)"
   ]
  },
  {
   "cell_type": "markdown",
   "metadata": {},
   "source": [
    "Now we are moving on to the more advanced data types in Python"
   ]
  },
  {
   "cell_type": "markdown",
   "metadata": {},
   "source": [
    "# Section 5: Array"
   ]
  },
  {
   "cell_type": "code",
   "execution_count": 14,
   "metadata": {},
   "outputs": [
    {
     "ename": "ModuleNotFoundError",
     "evalue": "No module named 'numpy'",
     "output_type": "error",
     "traceback": [
      "\u001b[0;31m---------------------------------------------------------------------------\u001b[0m",
      "\u001b[0;31mModuleNotFoundError\u001b[0m                       Traceback (most recent call last)",
      "\u001b[0;32m<ipython-input-14-04eba91488af>\u001b[0m in \u001b[0;36m<module>\u001b[0;34m()\u001b[0m\n\u001b[1;32m      2\u001b[0m \u001b[0;31m# Since we will use Numpy array for our class, we will only look at Numpy array for now.\u001b[0m\u001b[0;34m\u001b[0m\u001b[0;34m\u001b[0m\u001b[0m\n\u001b[1;32m      3\u001b[0m \u001b[0;31m# To creat a Numpy array, we first need to import Numpy library\u001b[0m\u001b[0;34m\u001b[0m\u001b[0;34m\u001b[0m\u001b[0m\n\u001b[0;32m----> 4\u001b[0;31m \u001b[0;32mimport\u001b[0m \u001b[0mnumpy\u001b[0m \u001b[0;32mas\u001b[0m \u001b[0mnp\u001b[0m\u001b[0;34m\u001b[0m\u001b[0m\n\u001b[0m",
      "\u001b[0;31mModuleNotFoundError\u001b[0m: No module named 'numpy'"
     ]
    }
   ],
   "source": [
    "# An array is a compact way of collecting values of the same basic data types (i.e., homogeneous items)\n",
    "# Since we will use Numpy array for our class, we will only look at Numpy array for now.\n",
    "# To creat a Numpy array, we first need to import Numpy library\n",
    "import numpy as np"
   ]
  },
  {
   "cell_type": "code",
   "execution_count": null,
   "metadata": {},
   "outputs": [],
   "source": []
  },
  {
   "cell_type": "code",
   "execution_count": 13,
   "metadata": {},
   "outputs": [
    {
     "ename": "NameError",
     "evalue": "name 'np' is not defined",
     "output_type": "error",
     "traceback": [
      "\u001b[0;31m---------------------------------------------------------------------------\u001b[0m",
      "\u001b[0;31mNameError\u001b[0m                                 Traceback (most recent call last)",
      "\u001b[0;32m<ipython-input-13-790d6f45a7b9>\u001b[0m in \u001b[0;36m<module>\u001b[0;34m()\u001b[0m\n\u001b[1;32m      1\u001b[0m \u001b[0;31m# Now, let us create a Numpy array and multiply it by 3.2\u001b[0m\u001b[0;34m\u001b[0m\u001b[0;34m\u001b[0m\u001b[0m\n\u001b[0;32m----> 2\u001b[0;31m \u001b[0mnarr1\u001b[0m \u001b[0;34m=\u001b[0m \u001b[0mnp\u001b[0m\u001b[0;34m.\u001b[0m\u001b[0marray\u001b[0m\u001b[0;34m(\u001b[0m\u001b[0;34m[\u001b[0m\u001b[0;36m2\u001b[0m\u001b[0;34m,\u001b[0m\u001b[0;36m3\u001b[0m\u001b[0;34m,\u001b[0m\u001b[0;36m5\u001b[0m\u001b[0;34m]\u001b[0m\u001b[0;34m)\u001b[0m\u001b[0;34m\u001b[0m\u001b[0m\n\u001b[0m\u001b[1;32m      3\u001b[0m \u001b[0mnarr2\u001b[0m \u001b[0;34m=\u001b[0m \u001b[0mnarr1\u001b[0m \u001b[0;34m*\u001b[0m \u001b[0;36m3.2\u001b[0m\u001b[0;34m\u001b[0m\u001b[0m\n\u001b[1;32m      4\u001b[0m \u001b[0mprint\u001b[0m\u001b[0;34m(\u001b[0m\u001b[0mnarr2\u001b[0m\u001b[0;34m)\u001b[0m\u001b[0;34m\u001b[0m\u001b[0m\n",
      "\u001b[0;31mNameError\u001b[0m: name 'np' is not defined"
     ]
    }
   ],
   "source": [
    "# Now, let us create a Numpy array and multiply it by 3.2\n",
    "narr1 = np.array([2,3,5])\n",
    "narr2 = narr1 * 3.2\n",
    "print(narr2)"
   ]
  },
  {
   "cell_type": "code",
   "execution_count": null,
   "metadata": {},
   "outputs": [],
   "source": []
  },
  {
   "cell_type": "code",
   "execution_count": 16,
   "metadata": {},
   "outputs": [
    {
     "data": {
      "text/plain": [
       "6.4000000000000004"
      ]
     },
     "execution_count": 16,
     "metadata": {},
     "output_type": "execute_result"
    }
   ],
   "source": [
    "# You can slice a numpy array using indices\n",
    "narr2[0]  # The element or item associated with index 0"
   ]
  },
  {
   "cell_type": "code",
   "execution_count": 17,
   "metadata": {},
   "outputs": [
    {
     "name": "stdout",
     "output_type": "stream",
     "text": [
      "[ 18.7  21.9  28.3]\n"
     ]
    }
   ],
   "source": [
    "# If you want to add a value, say, 21.3, to every elements, you can simply do the following:\n",
    "narr3 = narr2 + 12.3\n",
    "print(narr3)"
   ]
  },
  {
   "cell_type": "markdown",
   "metadata": {},
   "source": [
    "# Section 6: Lists"
   ]
  },
  {
   "cell_type": "code",
   "execution_count": 12,
   "metadata": {},
   "outputs": [
    {
     "data": {
      "text/plain": [
       "2.8"
      ]
     },
     "execution_count": 12,
     "metadata": {},
     "output_type": "execute_result"
    }
   ],
   "source": [
    "# A list is a collection of heterogenous items (i.e., items can be of different data types). The values for these items are mutable.\n",
    "# The elements in a list are enclosed within [ ], and separated by comma , \n",
    "list1 = [2.8, 9.2, 23.1]\n",
    "list1[0]  # The first element in the list"
   ]
  },
  {
   "cell_type": "code",
   "execution_count": null,
   "metadata": {},
   "outputs": [],
   "source": []
  },
  {
   "cell_type": "code",
   "execution_count": 11,
   "metadata": {},
   "outputs": [
    {
     "ename": "NameError",
     "evalue": "name 'list1' is not defined",
     "output_type": "error",
     "traceback": [
      "\u001b[0;31m---------------------------------------------------------------------------\u001b[0m",
      "\u001b[0;31mNameError\u001b[0m                                 Traceback (most recent call last)",
      "\u001b[0;32m<ipython-input-11-1fafc2de3df2>\u001b[0m in \u001b[0;36m<module>\u001b[0;34m()\u001b[0m\n\u001b[0;32m----> 1\u001b[0;31m \u001b[0mlist1\u001b[0m\u001b[0;34m/\u001b[0m\u001b[0;36m2\u001b[0m\u001b[0;34m\u001b[0m\u001b[0m\n\u001b[0m",
      "\u001b[0;31mNameError\u001b[0m: name 'list1' is not defined"
     ]
    }
   ],
   "source": [
    "list1/2   "
   ]
  },
  {
   "cell_type": "code",
   "execution_count": null,
   "metadata": {},
   "outputs": [],
   "source": []
  },
  {
   "cell_type": "markdown",
   "metadata": {},
   "source": [
    "Do not worry! That is just to show you why we prefer to work with Numpy array. \n",
    "Simple operations like in the above example are not supported by this data type."
   ]
  },
  {
   "cell_type": "code",
   "execution_count": 20,
   "metadata": {},
   "outputs": [
    {
     "name": "stdout",
     "output_type": "stream",
     "text": [
      "[2.89, True, 'Houston', 14]\n",
      "['2.89' 'True' 'Houston' '14']\n"
     ]
    }
   ],
   "source": [
    "# Note that lists can take heterogenous items, while Numpy array can only take homogenous items.\n",
    "list2 = [2.89, True, 'Houston', 14]\n",
    "print(list2)\n",
    "array2 = np.array([2.89, True, 'Houston', 14])\n",
    "print(array2)"
   ]
  },
  {
   "cell_type": "markdown",
   "metadata": {},
   "source": [
    "Pay close attention to the output of print(array2). Have you noticed that when you put heterogenous items into a Numpy array, all the items will be converted into the same data type (in this case, strings)?"
   ]
  },
  {
   "cell_type": "markdown",
   "metadata": {},
   "source": [
    "# Section 7: Tuples"
   ]
  },
  {
   "cell_type": "code",
   "execution_count": 21,
   "metadata": {},
   "outputs": [
    {
     "data": {
      "text/plain": [
       "2"
      ]
     },
     "execution_count": 21,
     "metadata": {},
     "output_type": "execute_result"
    }
   ],
   "source": [
    "# A tuple is a collection of heterogeneous items that are enclosed by parentheses (optional) and separated by comma ,\n",
    "# The values of the items in a tuple are immutable\n",
    "tup1 = 1, 2, 3, 4, 5\n",
    "tup1[1]   # the item with index of 1 in the tuple"
   ]
  },
  {
   "cell_type": "code",
   "execution_count": 22,
   "metadata": {},
   "outputs": [
    {
     "data": {
      "text/plain": [
       "6"
      ]
     },
     "execution_count": 22,
     "metadata": {},
     "output_type": "execute_result"
    }
   ],
   "source": [
    "tup2 = (4, 21, 6, 9, 76)\n",
    "tup2[2]   # the item with index of 2 in the tuple"
   ]
  },
  {
   "cell_type": "code",
   "execution_count": 23,
   "metadata": {},
   "outputs": [
    {
     "data": {
      "text/plain": [
       "'cat'"
      ]
     },
     "execution_count": 23,
     "metadata": {},
     "output_type": "execute_result"
    }
   ],
   "source": [
    "tup3 = 'dog', 'cat', 29, 13\n",
    "tup3[1]"
   ]
  },
  {
   "cell_type": "markdown",
   "metadata": {},
   "source": [
    "# Section 8: Dictionary"
   ]
  },
  {
   "cell_type": "code",
   "execution_count": 24,
   "metadata": {},
   "outputs": [
    {
     "data": {
      "text/plain": [
       "43.86"
      ]
     },
     "execution_count": 24,
     "metadata": {},
     "output_type": "execute_result"
    }
   ],
   "source": [
    "# A dictionary consists of a sequence of key-value pairs, enclosed by curly brackets { }, and separate by comma ,\n",
    "stockprice = {\"ExxonMobile\":88.32, \"BP\":43.86, \"Chevron\":131.70, \"Anadarko\":61.32}\n",
    "stockprice[\"BP\"]   # retrieve the stock price for BP, by using the key"
   ]
  },
  {
   "cell_type": "code",
   "execution_count": 25,
   "metadata": {},
   "outputs": [
    {
     "data": {
      "text/plain": [
       "True"
      ]
     },
     "execution_count": 25,
     "metadata": {},
     "output_type": "execute_result"
    }
   ],
   "source": [
    "# you can check if a key exists in a dictionary\n",
    "\"BP\" in stockprice"
   ]
  },
  {
   "cell_type": "code",
   "execution_count": 26,
   "metadata": {},
   "outputs": [
    {
     "data": {
      "text/plain": [
       "{'Anadarko': 61.32, 'Chevron': 131.7, 'ExxonMobile': 88.32}"
      ]
     },
     "execution_count": 26,
     "metadata": {},
     "output_type": "execute_result"
    }
   ],
   "source": [
    "# You can change the value associated with any key in the dictionary\n",
    "del(stockprice[\"BP\"])\n",
    "stockprice"
   ]
  },
  {
   "cell_type": "markdown",
   "metadata": {},
   "source": [
    "# Section 9: If statement"
   ]
  },
  {
   "cell_type": "markdown",
   "metadata": {},
   "source": [
    "The syntax for if statement:\n",
    "\n",
    "**if** <font color = blue>*expression*</font>:<br> \n",
    "&nbsp;&nbsp; <font color = red>statement(s)</font>\n",
    "\n",
    "An if statement consists of a boolean expression (or equivalently, logical expression) followed by one or more statements.  <br>\n",
    "If the boolean expression evaluates to TRUE, then the block of statement(s) inside the if statement is executed. If boolean expression evaluates to FALSE, then the first set of code after the end of the if statement(s) is executed."
   ]
  },
  {
   "cell_type": "code",
   "execution_count": 27,
   "metadata": {},
   "outputs": [
    {
     "name": "stdout",
     "output_type": "stream",
     "text": [
      "val is divisible by 2\n"
     ]
    }
   ],
   "source": [
    "# an example of if statement\n",
    "val = 10\n",
    "if (val%2 == 0):   # The expression in the brackets is true; note that the brackets are optional\n",
    "    print('val is divisible by 2')    # Therefore, this statement is executed"
   ]
  },
  {
   "cell_type": "markdown",
   "metadata": {},
   "source": [
    "We can also have if-else statement:\n",
    "    \n",
    "**if** <font color = blue>*expression*</font>:<br> \n",
    "&nbsp;&nbsp; <font color = red>statement(s)</font> <br>\n",
    "**else:**<br>\n",
    "&nbsp;&nbsp; <font color = red>statement(s)</font> "
   ]
  },
  {
   "cell_type": "code",
   "execution_count": 28,
   "metadata": {},
   "outputs": [
    {
     "name": "stdout",
     "output_type": "stream",
     "text": [
      "val is odd!\n"
     ]
    }
   ],
   "source": [
    "# an example of the if-else statement\n",
    "val = 15\n",
    "if (val%2 == 0):   # The expression in the brackets is false\n",
    "    print(\"val is even!\")  # Therefore, this statement is not executed\n",
    "else: \n",
    "    print(\"val is odd!\")  # This statement is executed instead."
   ]
  },
  {
   "cell_type": "markdown",
   "metadata": {},
   "source": [
    "A more general form of the if statement has the following form:\n",
    "\n",
    "**if** <font color = blue>*expression1*</font>:<br> \n",
    "&nbsp;&nbsp;&nbsp; <font color = red>statement(s)</font> <br>\n",
    "**elif** <font color = blue>*expression2*</font>:<br>\n",
    "&nbsp;&nbsp;&nbsp; <font color = red>statement(s)</font><br>\n",
    "**elif** <font color = blue>*expression3*</font>:<br>\n",
    "&nbsp;&nbsp;&nbsp; <font color = red>statement(s)</font><br>\n",
    "**else:**<br>\n",
    "&nbsp;&nbsp;&nbsp; <font color = red>statement(s)</font>"
   ]
  },
  {
   "cell_type": "code",
   "execution_count": 29,
   "metadata": {},
   "outputs": [
    {
     "name": "stdout",
     "output_type": "stream",
     "text": [
      "2 - Got a true expression value\n",
      "1500\n"
     ]
    }
   ],
   "source": [
    "# An example of the if-elif-else statement\n",
    "var = 1500\n",
    "if var == 1000:   # the expression is false\n",
    "    print(\"1 - Got a true expression value\")  # Thus, this statement is not executed\n",
    "    print(var)\n",
    "elif var == 1500:  # the expression is true\n",
    "    print(\"2 - Got a true expression value\")  # Thus, this statement is executed\n",
    "    print(var)\n",
    "elif var == 2000:\n",
    "    print(\"3 - Got a true expression value\")\n",
    "    print(var)\n",
    "else:\n",
    "    print(\"4 - Got a false expression value\")\n",
    "    print(var)"
   ]
  },
  {
   "cell_type": "markdown",
   "metadata": {
    "collapsed": true
   },
   "source": [
    "# Section 10: While loop"
   ]
  },
  {
   "cell_type": "markdown",
   "metadata": {},
   "source": [
    "The syntax for while loop:\n",
    "    \n",
    "**while** <font color = blue>*expression*</font>: <br>\n",
    "&nbsp;&nbsp;&nbsp;&nbsp;&nbsp;&nbsp;<font color = red>statement(s)</font>    \n",
    "\n",
    "A while loop repeatedly executes the statement(s) if the expression evaluates to True.\n",
    "If the expression evaluates to False, the statement(s) will be skipped, and the first statement after the while loop will be executed."
   ]
  },
  {
   "cell_type": "code",
   "execution_count": 30,
   "metadata": {},
   "outputs": [
    {
     "name": "stdout",
     "output_type": "stream",
     "text": [
      "val = 0\n",
      "val = 1\n",
      "val = 2\n",
      "val = 3\n",
      "val = 4\n",
      "val = 5\n",
      "done!\n"
     ]
    }
   ],
   "source": [
    "# example of a while loop \n",
    "val = 0\n",
    "while (val < 6):\n",
    "    print(\"val =\", val)\n",
    "    val = val + 1\n",
    "    \n",
    "print('done!')"
   ]
  },
  {
   "cell_type": "markdown",
   "metadata": {},
   "source": [
    "# Section 11: For loop"
   ]
  },
  {
   "cell_type": "markdown",
   "metadata": {},
   "source": [
    "The for loop has the following form:\n",
    "    \n",
    "**for** <font color = blue>*var*</font> **in** <font color = green>*seq*</font>: <br>\n",
    "&nbsp;&nbsp;&nbsp;&nbsp;&nbsp;&nbsp;<font color = red>statement(s)</font>  \n",
    "\n",
    "which can be interpreted as:\n",
    "for each <font color = blue>*var*</font> in the sequence <font color = green>*seq*</font> (could be a list or a string), execute statements"
   ]
  },
  {
   "cell_type": "code",
   "execution_count": 31,
   "metadata": {},
   "outputs": [
    {
     "name": "stdout",
     "output_type": "stream",
     "text": [
      "Current letter is: P\n",
      "Current letter is: y\n",
      "Current letter is: t\n",
      "Current letter is: h\n",
      "Current letter is: o\n",
      "Current letter is: n\n"
     ]
    }
   ],
   "source": [
    "# an example of for loop\n",
    "for letter in \"Python\":   # note that the sequence here is actually a string\n",
    "    print(\"Current letter is:\", letter)"
   ]
  },
  {
   "cell_type": "code",
   "execution_count": 10,
   "metadata": {},
   "outputs": [
    {
     "name": "stdout",
     "output_type": "stream",
     "text": [
      "The current city is: Houston\n",
      "The current city is: LA\n",
      "The current city is: Denver\n",
      "The current city is: New York\n"
     ]
    }
   ],
   "source": [
    "# another example of for loop\n",
    "cities = [\"Houston\", \"LA\", \"Denver\", \"New York\"]\n",
    "for city in cities:  # Note that the sequence, cities, here is a list\n",
    "   print(\"The current city is:\", city)"
   ]
  },
  {
   "cell_type": "code",
   "execution_count": null,
   "metadata": {},
   "outputs": [],
   "source": []
  },
  {
   "cell_type": "markdown",
   "metadata": {
    "collapsed": true
   },
   "source": [
    "# Congratulations on finishing your first Python tour! You are now equipped with enough Python knowledge that you can start programming in Python!"
   ]
  }
 ],
 "metadata": {
  "kernelspec": {
   "display_name": "Python 3",
   "language": "python",
   "name": "python3"
  },
  "language_info": {
   "codemirror_mode": {
    "name": "ipython",
    "version": 3
   },
   "file_extension": ".py",
   "mimetype": "text/x-python",
   "name": "python",
   "nbconvert_exporter": "python",
   "pygments_lexer": "ipython3",
   "version": "3.8.5"
  }
 },
 "nbformat": 4,
 "nbformat_minor": 2
}
